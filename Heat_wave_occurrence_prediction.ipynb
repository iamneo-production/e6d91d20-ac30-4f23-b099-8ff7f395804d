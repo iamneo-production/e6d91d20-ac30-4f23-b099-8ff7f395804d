{
  "cells": [
    {
      "cell_type": "markdown",
      "metadata": {
        "id": "view-in-github",
        "colab_type": "text"
      },
      "source": [
        "<a href=\"https://colab.research.google.com/github/SLokesh2509/Reliable_raptors/blob/main/Heat_wave_occurrence_prediction.ipynb\" target=\"_parent\"><img src=\"https://colab.research.google.com/assets/colab-badge.svg\" alt=\"Open In Colab\"/></a>"
      ]
    },
    {
      "cell_type": "code",
      "execution_count": 4,
      "metadata": {
        "id": "uxOlfbyGFOOD"
      },
      "outputs": [],
      "source": [
        "import pandas as pd\n",
        "import numpy as np\n",
        "from sklearn.ensemble import RandomForestClassifier\n",
        "from sklearn.model_selection import train_test_split\n",
        "from sklearn.metrics import accuracy_score\n",
        "from sklearn.tree import DecisionTreeClassifier\n",
        "from sklearn.metrics import classification_report\n",
        "from sklearn.impute import SimpleImputer\n"
      ]
    },
    {
      "cell_type": "code",
      "source": [
        "# Load data\n",
        "old_dataset = pd.read_excel('Book2.xlsx')"
      ],
      "metadata": {
        "id": "VS_u2dZ-QC2R"
      },
      "execution_count": 5,
      "outputs": []
    },
    {
      "cell_type": "code",
      "source": [
        "#defining the districts\n",
        "district=input('Enter the district:')\n"
      ],
      "metadata": {
        "colab": {
          "base_uri": "https://localhost:8080/"
        },
        "id": "RLgPcfg4ROjL",
        "outputId": "07ba01e6-c18b-4b95-e6fa-cbf5d81479be"
      },
      "execution_count": 6,
      "outputs": [
        {
          "name": "stdout",
          "output_type": "stream",
          "text": [
            "Enter the district:Adilabad\n"
          ]
        }
      ]
    },
    {
      "cell_type": "code",
      "source": [
        "dataset=old_dataset[old_dataset['District']==district]"
      ],
      "metadata": {
        "id": "UVBGRU_PR78o"
      },
      "execution_count": 8,
      "outputs": []
    },
    {
      "cell_type": "code",
      "source": [
        "#preprocessing the data\n",
        "dataset = dataset.dropna()"
      ],
      "metadata": {
        "id": "2GcAwsaGzkeh"
      },
      "execution_count": 9,
      "outputs": []
    },
    {
      "cell_type": "code",
      "source": [
        "#print(dataset.loc[:,\"Date\"].head(10))\n",
        "dataset[\"Date\"] = pd.to_datetime(dataset[\"Date\"])\n",
        "dataset[\"year\"] = pd.DatetimeIndex(dataset[\"Date\"]).year\n",
        "dataset[\"month\"] = pd.DatetimeIndex(dataset[\"Date\"]).month\n",
        "dataset[\"day\"] = pd.DatetimeIndex(dataset[\"Date\"]).day\n",
        "print(dataset.head(5))"
      ],
      "metadata": {
        "colab": {
          "base_uri": "https://localhost:8080/"
        },
        "id": "v36dDJbF7W2H",
        "outputId": "f54fe82e-f791-4922-a423-3a99c83d6c21"
      },
      "execution_count": 10,
      "outputs": [
        {
          "output_type": "stream",
          "name": "stdout",
          "text": [
            "   District          Mandal       Date  Rainfall (mm)  temp_min (⁰C)  \\\n",
            "0  Adilabad  Adilabad Rural 2022-04-01            0.0           22.0   \n",
            "1  Adilabad  Adilabad Rural 2022-04-02            0.0           26.6   \n",
            "2  Adilabad  Adilabad Rural 2022-04-03            0.0           26.9   \n",
            "3  Adilabad  Adilabad Rural 2022-04-04            0.0           28.3   \n",
            "4  Adilabad  Adilabad Rural 2022-04-05            0.0           28.2   \n",
            "\n",
            "   temp_max (⁰C)  humidity_min (%)  Humidity_max (%)  wind_speed_min (Kmph)  \\\n",
            "0           42.6              15.7              56.2                    0.0   \n",
            "1           42.0              15.7              80.8                    2.5   \n",
            "2           42.2              19.8              78.5                    0.1   \n",
            "3           42.2              24.8              72.0                    0.0   \n",
            "4           41.0              32.1              68.6                    2.2   \n",
            "\n",
            "   wind_speed_max (Kmph)  year  month  day  \n",
            "0                   13.0  2022      4    1  \n",
            "1                   15.1  2022      4    2  \n",
            "2                   15.3  2022      4    3  \n",
            "3                   11.6  2022      4    4  \n",
            "4                   15.8  2022      4    5  \n"
          ]
        }
      ]
    },
    {
      "cell_type": "code",
      "source": [
        "# Define the thresholds for each parameter that would indicate the start of a heat wave\n",
        "rain_threshold = 0.5 # in mm\n",
        "temperature_threshold = 37 # in ⁰C\n",
        "min_humidity_threshold = 30 # in %\n",
        "max_humidity_threshold = 70 # in %\n",
        "min_wind_speed_threshold = 10 # in Kmph\n",
        "max_wind_speed_threshold = 25 # in Kmph\n",
        "\n",
        "# Create a new column that indicates whether a heat wave occurred on each day\n",
        "# A heat wave is defined as three or more consecutive days with rain below the threshold,\n",
        "# minimum humidity above the threshold, maximum humidity above the threshold,\n",
        "# minimum wind speed below the threshold, and maximum wind speed below the threshold\n",
        "dataset[\"Heat Wave\"] = ((dataset[\"Rainfall (mm)\"] < rain_threshold) &\n",
        "                   #(dataset[\"humidity_min (%)\"] > min_humidity_threshold) &\n",
        "                   (dataset[\"Humidity_max (%)\"] > max_humidity_threshold) &\n",
        "                   #(dataset[\"wind_speed_min (Kmph)\"] < min_wind_speed_threshold) &\n",
        "                   #(dataset[\"wind_speed_max (Kmph)\"] < max_wind_speed_threshold) &\n",
        "                   (dataset[\"temp_max (⁰C)\"] > temperature_threshold)&\n",
        "                   (dataset[\"Rainfall (mm)\"].rolling(3).sum() >= 0.75)).astype(int)\n",
        "\n",
        "# Create a new column that categorizes the heat waves based on their intensity\n",
        "# Mild: 3-5 consecutive days with heat wave occurrence\n",
        "# Moderate: 6-8 consecutive days with heat wave occurrence\n",
        "# Severe: 9 or more consecutive days with heat wave occurrence\n",
        "dataset[\"Heat Wave Intensity\"] = pd.cut(dataset[\"Heat Wave\"].groupby((dataset[\"Heat Wave\"].diff() != 0).cumsum()).cumsum(),\n",
        "                                   bins=[0, 5, 8, 1000],\n",
        "                                   labels=[\"Mild\", \"Moderate\", \"Severe\"])\n"
      ],
      "metadata": {
        "id": "TGx3c93wSdj6"
      },
      "execution_count": 11,
      "outputs": []
    },
    {
      "cell_type": "code",
      "source": [
        "#features = ['Rainfall (mm)','temp_min (⁰C)','temp_max (⁰C)','humidity_min (%)','Humidity_max (%)','wind_speed_min (Kmph)','wind_speed_max (Kmph)','year','month','day']\n",
        "features = ['year','month','day']\n",
        "print(dataset.head(5))"
      ],
      "metadata": {
        "colab": {
          "base_uri": "https://localhost:8080/"
        },
        "id": "tkApy4q_hpFm",
        "outputId": "a5577610-f816-42a7-9ce3-00194d481828"
      },
      "execution_count": 12,
      "outputs": [
        {
          "output_type": "stream",
          "name": "stdout",
          "text": [
            "   District          Mandal       Date  Rainfall (mm)  temp_min (⁰C)  \\\n",
            "0  Adilabad  Adilabad Rural 2022-04-01            0.0           22.0   \n",
            "1  Adilabad  Adilabad Rural 2022-04-02            0.0           26.6   \n",
            "2  Adilabad  Adilabad Rural 2022-04-03            0.0           26.9   \n",
            "3  Adilabad  Adilabad Rural 2022-04-04            0.0           28.3   \n",
            "4  Adilabad  Adilabad Rural 2022-04-05            0.0           28.2   \n",
            "\n",
            "   temp_max (⁰C)  humidity_min (%)  Humidity_max (%)  wind_speed_min (Kmph)  \\\n",
            "0           42.6              15.7              56.2                    0.0   \n",
            "1           42.0              15.7              80.8                    2.5   \n",
            "2           42.2              19.8              78.5                    0.1   \n",
            "3           42.2              24.8              72.0                    0.0   \n",
            "4           41.0              32.1              68.6                    2.2   \n",
            "\n",
            "   wind_speed_max (Kmph)  year  month  day  Heat Wave Heat Wave Intensity  \n",
            "0                   13.0  2022      4    1          0                 NaN  \n",
            "1                   15.1  2022      4    2          0                 NaN  \n",
            "2                   15.3  2022      4    3          0                 NaN  \n",
            "3                   11.6  2022      4    4          0                 NaN  \n",
            "4                   15.8  2022      4    5          0                 NaN  \n"
          ]
        }
      ]
    },
    {
      "cell_type": "code",
      "source": [
        "target = dataset['Heat Wave'].to_frame()\n",
        "#dataset.dropna()\n",
        "#print(dataset.head(10))"
      ],
      "metadata": {
        "id": "i2YU7KUk2ana"
      },
      "execution_count": 13,
      "outputs": []
    },
    {
      "cell_type": "code",
      "source": [
        "# Split data into training and testing sets\n",
        "X_train, X_test, y_train, y_test = train_test_split(dataset[features], target, test_size=0.3, random_state=42)\n",
        "#print(X_train)\n",
        "# Train a random forest classifier\n",
        "rf = RandomForestClassifier(n_estimators=100, random_state=42)\n",
        "rf.fit(X_train, y_train)\n",
        "\n",
        "# Make predictions on test set\n",
        "y_pred = rf.predict(X_test)\n",
        "\n",
        "#report\n",
        "report = classification_report(y_test, y_pred)\n",
        "print(report)\n",
        "\n",
        "# Evaluate accuracy\n",
        "accuracy = accuracy_score(y_test, y_pred)\n",
        "print(\"Accuracy: {:.2f}%\".format(accuracy*100))\n"
      ],
      "metadata": {
        "colab": {
          "base_uri": "https://localhost:8080/"
        },
        "id": "6LgcdTCDLhaC",
        "outputId": "640fcdcf-6edb-4412-ae46-77ff9469d2cf"
      },
      "execution_count": 14,
      "outputs": [
        {
          "output_type": "stream",
          "name": "stderr",
          "text": [
            "<ipython-input-14-b2963a8c8819>:6: DataConversionWarning: A column-vector y was passed when a 1d array was expected. Please change the shape of y to (n_samples,), for example using ravel().\n",
            "  rf.fit(X_train, y_train)\n"
          ]
        },
        {
          "output_type": "stream",
          "name": "stdout",
          "text": [
            "              precision    recall  f1-score   support\n",
            "\n",
            "           0       0.99      1.00      1.00      7764\n",
            "           1       0.50      0.05      0.08        65\n",
            "\n",
            "    accuracy                           0.99      7829\n",
            "   macro avg       0.75      0.52      0.54      7829\n",
            "weighted avg       0.99      0.99      0.99      7829\n",
            "\n",
            "Accuracy: 99.17%\n"
          ]
        }
      ]
    },
    {
      "cell_type": "code",
      "source": [
        "import pickle\n",
        "\n",
        "# Save the trained model to disk\n",
        "filename = 'rf.pkl'\n",
        "with open(filename, 'wb') as file:\n",
        "    pickle.dump(rf, file)\n",
        "\n",
        "# Load the saved model from disk\n",
        "with open(filename, 'rb') as file:\n",
        "    loaded_model = pickle.load(file)\n",
        "\n",
        "# Define the new input data\n",
        "year=int(input('Enter the year:'))\n",
        "month=int(input('Enter the Month:'))\n",
        "date=int(input('Enter the date:'))\n",
        "data_list = [year,month,date]\n",
        "\n",
        "# Convert the list to a pandas dataframe\n",
        "df = pd.DataFrame(data_list)\n",
        "\n",
        "new_data=[year,month,date]\n",
        "\n",
        "# Make predictions using the loaded model\n",
        "predictions = loaded_model.predict([new_data])\n",
        "\n",
        "# Interpret the results\n",
        "print(predictions)"
      ],
      "metadata": {
        "colab": {
          "base_uri": "https://localhost:8080/"
        },
        "id": "uQ1Z4NBIYvMr",
        "outputId": "8406921f-022a-45f5-a464-033ca7553396"
      },
      "execution_count": 15,
      "outputs": [
        {
          "output_type": "stream",
          "name": "stdout",
          "text": [
            "Enter the year:2023\n",
            "Enter the Month:5\n",
            "Enter the date:14\n",
            "[0]\n"
          ]
        },
        {
          "output_type": "stream",
          "name": "stderr",
          "text": [
            "/usr/local/lib/python3.8/dist-packages/sklearn/base.py:420: UserWarning: X does not have valid feature names, but RandomForestClassifier was fitted with feature names\n",
            "  warnings.warn(\n"
          ]
        }
      ]
    }
  ],
  "metadata": {
    "colab": {
      "provenance": [],
      "authorship_tag": "ABX9TyOQ9ZvSypZ1JAsGGbtZEWRa",
      "include_colab_link": true
    },
    "kernelspec": {
      "display_name": "Python 3",
      "name": "python3"
    },
    "language_info": {
      "name": "python"
    }
  },
  "nbformat": 4,
  "nbformat_minor": 0
}