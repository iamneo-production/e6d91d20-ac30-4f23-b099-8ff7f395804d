{
  "nbformat": 4,
  "nbformat_minor": 0,
  "metadata": {
    "colab": {
      "provenance": [],
      "authorship_tag": "ABX9TyMogv/uWtGhNNdtUEEidzkI",
      "include_colab_link": true
    },
    "kernelspec": {
      "name": "python3",
      "display_name": "Python 3"
    },
    "language_info": {
      "name": "python"
    }
  },
  "cells": [
    {
      "cell_type": "markdown",
      "metadata": {
        "id": "view-in-github",
        "colab_type": "text"
      },
      "source": [
        "<a href=\"https://colab.research.google.com/github/SLokesh2509/Reliable_raptors/blob/main/AQI_prediction.ipynb\" target=\"_parent\"><img src=\"https://colab.research.google.com/assets/colab-badge.svg\" alt=\"Open In Colab\"/></a>"
      ]
    },
    {
      "cell_type": "code",
      "source": [
        "from sklearn.ensemble import RandomForestRegressor\n",
        "from sklearn.model_selection import train_test_split\n",
        "from sklearn.metrics import mean_squared_error, mean_absolute_error\n",
        "import pandas as pd"
      ],
      "metadata": {
        "id": "f1RR4Rkot3gX"
      },
      "execution_count": 57,
      "outputs": []
    },
    {
      "cell_type": "code",
      "source": [
        "\n",
        "# Load data\n",
        "data = pd.read_excel('OnlineVehicleSaleupdated_0 (1).xlsx')"
      ],
      "metadata": {
        "id": "JLqb7rb1Gtx_"
      },
      "execution_count": 71,
      "outputs": []
    },
    {
      "cell_type": "code",
      "source": [
        "print(data.shape)\n",
        "data = data.replace('-', pd.NaT)\n",
        "data = data.dropna()\n",
        "print(data.shape)"
      ],
      "metadata": {
        "id": "b8e2pp7BHf_8"
      },
      "execution_count": null,
      "outputs": []
    },
    {
      "cell_type": "code",
      "source": [
        "data[\"Date\"] = pd.to_datetime(data[\"Date\"])\n",
        "data[\"year\"] = pd.DatetimeIndex(data[\"Date\"]).year\n",
        "data[\"month\"] = pd.DatetimeIndex(data[\"Date\"]).month\n",
        "data[\"day\"] = pd.DatetimeIndex(data[\"Date\"]).day\n",
        "features = ['year','month','day']\n",
        "target = data['AQI'].to_frame()\n",
        "#dataset.dropna()"
      ],
      "metadata": {
        "id": "ZKdWqLmmwLaG"
      },
      "execution_count": 74,
      "outputs": []
    },
    {
      "cell_type": "code",
      "source": [
        "X_train, X_test, y_train, y_test = train_test_split(data[features], target, test_size=0.3, random_state=42)\n",
        "\n",
        "# Train model\n",
        "rf = RandomForestRegressor(n_estimators=100, random_state=42)\n",
        "rf.fit(X_train, y_train)\n",
        "\n",
        "\n",
        "# Predict on test set\n",
        "y_pred = rf.predict(X_test)\n",
        "\n",
        "# Evaluate performance\n",
        "rmse = mean_squared_error(y_test, y_pred, squared=False)\n",
        "mae = mean_absolute_error(y_test, y_pred)\n",
        "\n",
        "print(\"Root Mean Squared Error: \", rmse)\n",
        "print(\"Mean Absolute Error: \", mae)"
      ],
      "metadata": {
        "id": "dNcgO5OnxQjf"
      },
      "execution_count": null,
      "outputs": []
    },
    {
      "cell_type": "code",
      "source": [
        "import pickle\n",
        "\n",
        "# Save the trained model to disk\n",
        "filename = 'rf.pkl'\n",
        "with open(filename, 'wb') as file:\n",
        "    pickle.dump(rf, file)\n",
        "\n",
        "# Load the saved model from disk\n",
        "with open(filename, 'rb') as file:\n",
        "    loaded_model = pickle.load(file)\n",
        "\n",
        "# Define the new input data\n",
        "year=int(input('Enter the year:'))\n",
        "month=int(input('Enter the Month:'))\n",
        "date=int(input('Enter the date:'))\n",
        "data_list = [year,month,date]\n",
        "\n",
        "# Convert the list to a pandas dataframe\n",
        "df = pd.DataFrame(data_list)\n",
        "\n",
        "new_data=[year,month,date]\n",
        "\n",
        "# Make predictions using the loaded model\n",
        "predictions = loaded_model.predict([new_data])\n",
        "\n",
        "# Interpret the results\n",
        "print(predictions)"
      ],
      "metadata": {
        "id": "7BFXxBHi1dE-"
      },
      "execution_count": null,
      "outputs": []
    }
  ]
}